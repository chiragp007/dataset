{
 "cells": [
  {
   "cell_type": "code",
   "execution_count": 1,
   "metadata": {
    "collapsed": true
   },
   "outputs": [],
   "source": [
    "# let's do the code"
   ]
  },
  {
   "cell_type": "code",
   "execution_count": 2,
   "metadata": {
    "collapsed": true
   },
   "outputs": [],
   "source": [
    "# import all the libs"
   ]
  },
  {
   "cell_type": "code",
   "execution_count": 3,
   "metadata": {},
   "outputs": [
    {
     "data": {
      "text/plain": [
       "25"
      ]
     },
     "execution_count": 3,
     "metadata": {},
     "output_type": "execute_result"
    }
   ],
   "source": [
    "import pandas as pd\n",
    "import datetime\n",
    "import numpy as np\n",
    "date_rng = pd.date_range(start='29/12/2017 12:00:00 ', end='30/12/2017 12:59:00', freq='H') #check the documentation of this \n",
    "len(date_rng)"
   ]
  },
  {
   "cell_type": "code",
   "execution_count": 4,
   "metadata": {},
   "outputs": [
    {
     "data": {
      "text/html": [
       "<div>\n",
       "<style scoped>\n",
       "    .dataframe tbody tr th:only-of-type {\n",
       "        vertical-align: middle;\n",
       "    }\n",
       "\n",
       "    .dataframe tbody tr th {\n",
       "        vertical-align: top;\n",
       "    }\n",
       "\n",
       "    .dataframe thead th {\n",
       "        text-align: right;\n",
       "    }\n",
       "</style>\n",
       "<table border=\"1\" class=\"dataframe\">\n",
       "  <thead>\n",
       "    <tr style=\"text-align: right;\">\n",
       "      <th></th>\n",
       "      <th>date</th>\n",
       "      <th>data</th>\n",
       "      <th>day_of_week</th>\n",
       "      <th>CPU</th>\n",
       "    </tr>\n",
       "  </thead>\n",
       "  <tbody>\n",
       "    <tr>\n",
       "      <th>20</th>\n",
       "      <td>2017-12-30 08:00:00</td>\n",
       "      <td>5</td>\n",
       "      <td>Saturday</td>\n",
       "      <td>5</td>\n",
       "    </tr>\n",
       "    <tr>\n",
       "      <th>21</th>\n",
       "      <td>2017-12-30 09:00:00</td>\n",
       "      <td>7</td>\n",
       "      <td>Saturday</td>\n",
       "      <td>7</td>\n",
       "    </tr>\n",
       "    <tr>\n",
       "      <th>22</th>\n",
       "      <td>2017-12-30 10:00:00</td>\n",
       "      <td>7</td>\n",
       "      <td>Saturday</td>\n",
       "      <td>7</td>\n",
       "    </tr>\n",
       "    <tr>\n",
       "      <th>23</th>\n",
       "      <td>2017-12-30 11:00:00</td>\n",
       "      <td>5</td>\n",
       "      <td>Saturday</td>\n",
       "      <td>5</td>\n",
       "    </tr>\n",
       "    <tr>\n",
       "      <th>24</th>\n",
       "      <td>2017-12-30 12:00:00</td>\n",
       "      <td>8</td>\n",
       "      <td>Saturday</td>\n",
       "      <td>8</td>\n",
       "    </tr>\n",
       "  </tbody>\n",
       "</table>\n",
       "</div>"
      ],
      "text/plain": [
       "                  date  data day_of_week  CPU\n",
       "20 2017-12-30 08:00:00     5    Saturday    5\n",
       "21 2017-12-30 09:00:00     7    Saturday    7\n",
       "22 2017-12-30 10:00:00     7    Saturday    7\n",
       "23 2017-12-30 11:00:00     5    Saturday    5\n",
       "24 2017-12-30 12:00:00     8    Saturday    8"
      ]
     },
     "execution_count": 4,
     "metadata": {},
     "output_type": "execute_result"
    }
   ],
   "source": [
    "# i will create some columns and dataframe\n",
    "df = pd.DataFrame(date_rng, columns=['date'])  \n",
    "df['data'] = np.random.randint(5,10,size=(len(date_rng)))\n",
    "df['day_of_week'] = df['date'].dt.weekday_name\n",
    "df['CPU'] = df['data']\n",
    "df.tail(5)"
   ]
  },
  {
   "cell_type": "code",
   "execution_count": 5,
   "metadata": {
    "collapsed": true
   },
   "outputs": [],
   "source": [
    "#NOW READ THE COMMENTS CAREFULLY\n",
    "#EVEN AFTER THAT YOU WILL NOT UNDERSTAND , comment below, i will ans it"
   ]
  },
  {
   "cell_type": "code",
   "execution_count": 6,
   "metadata": {},
   "outputs": [
    {
     "name": "stderr",
     "output_type": "stream",
     "text": [
      "C:\\Users\\Chirag\\AppData\\Local\\Continuum\\anaconda3\\lib\\site-packages\\ipykernel_launcher.py:27: SettingWithCopyWarning: \n",
      "A value is trying to be set on a copy of a slice from a DataFrame\n",
      "\n",
      "See the caveats in the documentation: http://pandas.pydata.org/pandas-docs/stable/indexing.html#indexing-view-versus-copy\n",
      "C:\\Users\\Chirag\\AppData\\Local\\Continuum\\anaconda3\\lib\\site-packages\\ipykernel_launcher.py:32: SettingWithCopyWarning: \n",
      "A value is trying to be set on a copy of a slice from a DataFrame\n",
      "\n",
      "See the caveats in the documentation: http://pandas.pydata.org/pandas-docs/stable/indexing.html#indexing-view-versus-copy\n"
     ]
    }
   ],
   "source": [
    "\n",
    "#WORKING DAYS -: monday TO friday\n",
    "#Nonworking days-: sat - sun\n",
    "# working hours -: 10 to 21 (10am to 9pm)\n",
    "# non wroking hours -: 21 to 10(9pm to 10 am)\n",
    "\n",
    "\n",
    "df.date = pd.to_datetime(df.date)  \n",
    "df.set_index(pd.DatetimeIndex(df.date),inplace=True)  \n",
    "\n",
    "\n",
    "start = datetime.time(21,0,0) # going with the syntax(9:00:00) hh:mm:ss\n",
    "end = datetime.time(10,0,0)   # going with the syntax(10:00:00) hh:mm:ss\n",
    "\n",
    "start_1 = datetime.time(10,0,0) # going with the syntax(10:00:00) hh:mm:ss\n",
    "end_1 = datetime.time(21,0,0)   # going with the syntax(9:00:00) hh:mm:ss\n",
    "\n",
    "#iterate all DATA FRAME\n",
    "#find working and non-working day first\n",
    "# then find out working and non-working hours\n",
    "# and set the value using by Numpy\n",
    "\n",
    "for a in range(len(df[:])):\n",
    "    # i use this just to avoid overlapping , that is why make new frame and give value to it\n",
    "    df[\"C\"]=df[\"CPU\"].between_time(start, end)  \n",
    "    if df.iloc[a].day_of_week==\"Monday\" or df.iloc[a].day_of_week==\"Tuesday\"or df.iloc[a].day_of_week==\"Wednesday\" or df.iloc[a].day_of_week==\"Thursday\" or df.iloc[a].day_of_week==\"Friday\":\n",
    "        df['CPU'][a] =  np.random.randint(0,5)    \n",
    "\n",
    "for a in range(len(df[:])):\n",
    "    df[\"CPU\"]=df[\"CPU\"].between_time(start_1, end_1)\n",
    "    if df.iloc[a].day_of_week==\"Monday\" or df.iloc[a].day_of_week==\"Tuesday\"or df.iloc[a].day_of_week==\"Wednesday\" or df.iloc[a].day_of_week==\"Thursday\" or df.iloc[a].day_of_week==\"Friday\":\n",
    "         df['CPU'][a] =  np.random.randint(6,45)  \n",
    "            \n",
    "            "
   ]
  },
  {
   "cell_type": "code",
   "execution_count": 7,
   "metadata": {
    "collapsed": true
   },
   "outputs": [],
   "source": [
    "#here we get some NAN value in CPU column and C column\n",
    "# so we first concat them and make a single column'\n",
    "#and then fill NAN value with Zero"
   ]
  },
  {
   "cell_type": "code",
   "execution_count": 8,
   "metadata": {
    "collapsed": true
   },
   "outputs": [],
   "source": [
    "df['P']=df['CPU']+df['C']\n",
    "df.P=df.P.fillna(df[['CPU','C']].max(1))"
   ]
  },
  {
   "cell_type": "code",
   "execution_count": 9,
   "metadata": {
    "collapsed": true
   },
   "outputs": [],
   "source": [
    "# lets delete some columns and make a good dataframe\n",
    "df=df.drop('CPU', axis=1)\n",
    "df=df.drop('C', axis=1)\n",
    "df=df.drop('data', axis=1)"
   ]
  },
  {
   "cell_type": "code",
   "execution_count": 10,
   "metadata": {},
   "outputs": [
    {
     "data": {
      "text/html": [
       "<div>\n",
       "<style scoped>\n",
       "    .dataframe tbody tr th:only-of-type {\n",
       "        vertical-align: middle;\n",
       "    }\n",
       "\n",
       "    .dataframe tbody tr th {\n",
       "        vertical-align: top;\n",
       "    }\n",
       "\n",
       "    .dataframe thead th {\n",
       "        text-align: right;\n",
       "    }\n",
       "</style>\n",
       "<table border=\"1\" class=\"dataframe\">\n",
       "  <thead>\n",
       "    <tr style=\"text-align: right;\">\n",
       "      <th></th>\n",
       "      <th>date</th>\n",
       "      <th>day_of_week</th>\n",
       "      <th>P</th>\n",
       "    </tr>\n",
       "    <tr>\n",
       "      <th>date</th>\n",
       "      <th></th>\n",
       "      <th></th>\n",
       "      <th></th>\n",
       "    </tr>\n",
       "  </thead>\n",
       "  <tbody>\n",
       "    <tr>\n",
       "      <th>2017-12-29 12:00:00</th>\n",
       "      <td>2017-12-29 12:00:00</td>\n",
       "      <td>Friday</td>\n",
       "      <td>25.0</td>\n",
       "    </tr>\n",
       "    <tr>\n",
       "      <th>2017-12-29 13:00:00</th>\n",
       "      <td>2017-12-29 13:00:00</td>\n",
       "      <td>Friday</td>\n",
       "      <td>26.0</td>\n",
       "    </tr>\n",
       "    <tr>\n",
       "      <th>2017-12-29 14:00:00</th>\n",
       "      <td>2017-12-29 14:00:00</td>\n",
       "      <td>Friday</td>\n",
       "      <td>25.0</td>\n",
       "    </tr>\n",
       "    <tr>\n",
       "      <th>2017-12-29 15:00:00</th>\n",
       "      <td>2017-12-29 15:00:00</td>\n",
       "      <td>Friday</td>\n",
       "      <td>12.0</td>\n",
       "    </tr>\n",
       "    <tr>\n",
       "      <th>2017-12-29 16:00:00</th>\n",
       "      <td>2017-12-29 16:00:00</td>\n",
       "      <td>Friday</td>\n",
       "      <td>39.0</td>\n",
       "    </tr>\n",
       "  </tbody>\n",
       "</table>\n",
       "</div>"
      ],
      "text/plain": [
       "                                   date day_of_week     P\n",
       "date                                                     \n",
       "2017-12-29 12:00:00 2017-12-29 12:00:00      Friday  25.0\n",
       "2017-12-29 13:00:00 2017-12-29 13:00:00      Friday  26.0\n",
       "2017-12-29 14:00:00 2017-12-29 14:00:00      Friday  25.0\n",
       "2017-12-29 15:00:00 2017-12-29 15:00:00      Friday  12.0\n",
       "2017-12-29 16:00:00 2017-12-29 16:00:00      Friday  39.0"
      ]
     },
     "execution_count": 10,
     "metadata": {},
     "output_type": "execute_result"
    }
   ],
   "source": [
    "df.head(5)"
   ]
  },
  {
   "cell_type": "code",
   "execution_count": 11,
   "metadata": {},
   "outputs": [
    {
     "name": "stderr",
     "output_type": "stream",
     "text": [
      "C:\\Users\\Chirag\\AppData\\Local\\Continuum\\anaconda3\\lib\\site-packages\\ipykernel_launcher.py:9: SettingWithCopyWarning: \n",
      "A value is trying to be set on a copy of a slice from a DataFrame\n",
      "\n",
      "See the caveats in the documentation: http://pandas.pydata.org/pandas-docs/stable/indexing.html#indexing-view-versus-copy\n",
      "  if __name__ == '__main__':\n"
     ]
    }
   ],
   "source": [
    "# you can also attach this code above and optimize it ,but i just want to do this here\n",
    "# same this we are doing here]\n",
    "#first find SAT and SUN and put the value in between 0 to 5\n",
    "\n",
    "# here i assumed that company is not working these days, you can put any value\n",
    "\n",
    "for a in range(len(df[:])):\n",
    "     if df.iloc[a].day_of_week==\"Saturday\" or df.iloc[a].day_of_week==\"Sunday\":\n",
    "        df['P'][a] =  np.random.randint(0,5) "
   ]
  },
  {
   "cell_type": "code",
   "execution_count": 1,
   "metadata": {
    "collapsed": true
   },
   "outputs": [],
   "source": [
    "# let's make a CSV file of this dataFrame"
   ]
  },
  {
   "cell_type": "code",
   "execution_count": null,
   "metadata": {
    "collapsed": true
   },
   "outputs": [],
   "source": [
    "df[:].to_csv('last_hour_to_Sec.csv', index=False, header=True)"
   ]
  },
  {
   "cell_type": "code",
   "execution_count": 2,
   "metadata": {
    "collapsed": true
   },
   "outputs": [],
   "source": [
    "#check your root folder file is there"
   ]
  },
  {
   "cell_type": "code",
   "execution_count": 3,
   "metadata": {
    "collapsed": true
   },
   "outputs": [],
   "source": [
    "# here you can  make any kind of data \n",
    "# only thing you need to do is make a combination and bit modification in this code\n",
    "# for example -: you want to make 1 hour data and need every sec data\n",
    "#           start='29/12/2017 12:00:00 ', end='29/12/2017 12:59:00', freq='s'(this is friday , you can check )\n"
   ]
  },
  {
   "cell_type": "code",
   "execution_count": null,
   "metadata": {
    "collapsed": true
   },
   "outputs": [],
   "source": []
  }
 ],
 "metadata": {
  "kernelspec": {
   "display_name": "Python 3",
   "language": "python",
   "name": "python3"
  },
  "language_info": {
   "codemirror_mode": {
    "name": "ipython",
    "version": 3
   },
   "file_extension": ".py",
   "mimetype": "text/x-python",
   "name": "python",
   "nbconvert_exporter": "python",
   "pygments_lexer": "ipython3",
   "version": "3.6.3"
  }
 },
 "nbformat": 4,
 "nbformat_minor": 2
}
